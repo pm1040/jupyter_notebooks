{
 "cells": [
  {
   "cell_type": "markdown",
   "metadata": {},
   "source": [
    "# Design a Super-Lame Video Game\n",
    "\n",
    "## Three Little Pigs\n",
    "\n",
    "Business Requirements:\n",
    "* Must recognize three house types:\n",
    "    * Straw\n",
    "    * Stick\n",
    "    * Brick\n",
    "* Must recognize three wolf types:\n",
    "    * Young Wolf\n",
    "        * can blow down Straw and Stick\n",
    "    * Old Wolf\n",
    "        * can blow down Straw\n",
    "    * COPD Wolf (from the commercials)\n",
    "        * cannot blow down anything\n",
    "* Must have player make decisions on house with text input\n",
    "* Must randomly pick a wolf each round\n",
    "* Must reward players who make decision to have weaker house per turn\n",
    "* Player scores points for each round house is up\n",
    "* Add random event for Earthquake:\n",
    "    * Straw survives\n",
    "    * Stick survives\n",
    "    * Brick is demolished\n",
    "* Have user hit enter to start each round\n",
    "* Output events and outcome for each round in text\n",
    "\n",
    "\n",
    "    "
   ]
  },
  {
   "cell_type": "code",
   "execution_count": 1,
   "metadata": {
    "scrolled": true
   },
   "outputs": [
    {
     "name": "stdout",
     "output_type": "stream",
     "text": [
      "3\n"
     ]
    }
   ],
   "source": [
    "from random import randrange\n",
    "print(randrange(10))"
   ]
  },
  {
   "cell_type": "code",
   "execution_count": 2,
   "metadata": {},
   "outputs": [
    {
     "name": "stdout",
     "output_type": "stream",
     "text": [
      "Please select a house to build: Straw, Stick or Brick   brick\n"
     ]
    }
   ],
   "source": [
    "pigs_house = input('Please select a house to build: Straw, Stick or Brick   ')\n",
    "\n",
    "while pigs_house.lower() not in ['straw', 'stick', 'brick']:\n",
    "    print(pigs_house, 'is not valid, please try again')\n",
    "    pigs_house = input('Please select a house to build: Straw, Stick or Brick   ')\n",
    "\n"
   ]
  },
  {
   "cell_type": "code",
   "execution_count": 3,
   "metadata": {},
   "outputs": [],
   "source": [
    "player_score = 0"
   ]
  },
  {
   "cell_type": "code",
   "execution_count": 4,
   "metadata": {},
   "outputs": [],
   "source": [
    "wolves = {\n",
    "    'young': 6,\n",
    "    'old': 3,\n",
    "    'copd': 0\n",
    "}\n",
    "\n",
    "houses = {\n",
    "    'straw':1,\n",
    "    'stick':4,\n",
    "    'brick':7\n",
    "}"
   ]
  },
  {
   "cell_type": "code",
   "execution_count": 5,
   "metadata": {},
   "outputs": [
    {
     "data": {
      "text/plain": [
       "{'young': 6, 'old': 3, 'copd': 0}"
      ]
     },
     "execution_count": 5,
     "metadata": {},
     "output_type": "execute_result"
    }
   ],
   "source": [
    "wolves"
   ]
  },
  {
   "cell_type": "code",
   "execution_count": 6,
   "metadata": {},
   "outputs": [],
   "source": [
    "house_up = True"
   ]
  },
  {
   "cell_type": "code",
   "execution_count": 7,
   "metadata": {},
   "outputs": [],
   "source": [
    "house_points = {\n",
    "    'straw':4,\n",
    "    'stick':2,\n",
    "    'brick':1\n",
    "}"
   ]
  },
  {
   "cell_type": "code",
   "execution_count": 8,
   "metadata": {
    "scrolled": true
   },
   "outputs": [
    {
     "name": "stdout",
     "output_type": "stream",
     "text": [
      "Ready for Round 1. Press enter to continue\n",
      "old wolf was spawned\n",
      "house is still up\n",
      "\n",
      "current score: 1\n",
      "current house health: 4\n",
      "-------------------------\n",
      "Ready for Round 2. Press enter to continue\n",
      "young wolf was spawned\n",
      "house is blown down\n",
      "\n",
      "current score: 1\n",
      "current house health: 4\n",
      "-------------------------\n"
     ]
    }
   ],
   "source": [
    "i = 1\n",
    "house_health = houses[pigs_house]\n",
    "\n",
    "while house_up:\n",
    "    input ('Ready for Round ' + str(i) + \". Press enter to continue\")\n",
    "    \n",
    "    wolf = list(wolves.keys())[randrange(3)]\n",
    "    print(wolf, \"wolf was spawned\")\n",
    "    if wolves[wolf] > house_health:\n",
    "        house_up = False\n",
    "        print('house is blown down')\n",
    "    else:\n",
    "        print('house is still up')\n",
    "    if pigs_house.lower() == 'brick':\n",
    "        if randrange(10) > 8:\n",
    "            print('An earthquake took your house down!')\n",
    "            house_up = False\n",
    "    house_health -= wolves[wolf]\n",
    "    player_score += house_points[pigs_house]\n",
    "    i += 1\n",
    "    print()\n",
    "    print('current score:', player_score)\n",
    "    print('current house health:', house_health)\n",
    "    print('-------------------------')\n",
    "    \n",
    "print('Game Over! Your final score was', player_score)"
   ]
  },
  {
   "cell_type": "code",
   "execution_count": null,
   "metadata": {},
   "outputs": [],
   "source": []
  },
  {
   "cell_type": "code",
   "execution_count": null,
   "metadata": {},
   "outputs": [],
   "source": []
  },
  {
   "cell_type": "code",
   "execution_count": null,
   "metadata": {},
   "outputs": [],
   "source": []
  },
  {
   "cell_type": "code",
   "execution_count": null,
   "metadata": {},
   "outputs": [],
   "source": []
  }
 ],
 "metadata": {
  "kernelspec": {
   "display_name": "Python 3",
   "language": "python",
   "name": "python3"
  },
  "language_info": {
   "codemirror_mode": {
    "name": "ipython",
    "version": 3
   },
   "file_extension": ".py",
   "mimetype": "text/x-python",
   "name": "python",
   "nbconvert_exporter": "python",
   "pygments_lexer": "ipython3",
   "version": "3.8.3"
  }
 },
 "nbformat": 4,
 "nbformat_minor": 4
}
